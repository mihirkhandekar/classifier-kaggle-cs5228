{
 "cells": [
  {
   "cell_type": "code",
   "execution_count": 1,
   "metadata": {},
   "outputs": [
    {
     "name": "stderr",
     "output_type": "stream",
     "text": [
      "/home/mihir/pythonprojects/cs5228_project/cs5228/venv/lib/python3.6/site-packages/tensorflow/python/framework/dtypes.py:516: FutureWarning: Passing (type, 1) or '1type' as a synonym of type is deprecated; in a future version of numpy, it will be understood as (type, (1,)) / '(1,)type'.\n",
      "  _np_qint8 = np.dtype([(\"qint8\", np.int8, 1)])\n",
      "/home/mihir/pythonprojects/cs5228_project/cs5228/venv/lib/python3.6/site-packages/tensorflow/python/framework/dtypes.py:517: FutureWarning: Passing (type, 1) or '1type' as a synonym of type is deprecated; in a future version of numpy, it will be understood as (type, (1,)) / '(1,)type'.\n",
      "  _np_quint8 = np.dtype([(\"quint8\", np.uint8, 1)])\n",
      "/home/mihir/pythonprojects/cs5228_project/cs5228/venv/lib/python3.6/site-packages/tensorflow/python/framework/dtypes.py:518: FutureWarning: Passing (type, 1) or '1type' as a synonym of type is deprecated; in a future version of numpy, it will be understood as (type, (1,)) / '(1,)type'.\n",
      "  _np_qint16 = np.dtype([(\"qint16\", np.int16, 1)])\n",
      "/home/mihir/pythonprojects/cs5228_project/cs5228/venv/lib/python3.6/site-packages/tensorflow/python/framework/dtypes.py:519: FutureWarning: Passing (type, 1) or '1type' as a synonym of type is deprecated; in a future version of numpy, it will be understood as (type, (1,)) / '(1,)type'.\n",
      "  _np_quint16 = np.dtype([(\"quint16\", np.uint16, 1)])\n",
      "/home/mihir/pythonprojects/cs5228_project/cs5228/venv/lib/python3.6/site-packages/tensorflow/python/framework/dtypes.py:520: FutureWarning: Passing (type, 1) or '1type' as a synonym of type is deprecated; in a future version of numpy, it will be understood as (type, (1,)) / '(1,)type'.\n",
      "  _np_qint32 = np.dtype([(\"qint32\", np.int32, 1)])\n",
      "/home/mihir/pythonprojects/cs5228_project/cs5228/venv/lib/python3.6/site-packages/tensorflow/python/framework/dtypes.py:525: FutureWarning: Passing (type, 1) or '1type' as a synonym of type is deprecated; in a future version of numpy, it will be understood as (type, (1,)) / '(1,)type'.\n",
      "  np_resource = np.dtype([(\"resource\", np.ubyte, 1)])\n"
     ]
    },
    {
     "name": "stdout",
     "output_type": "stream",
     "text": [
      "Labels                  Id         label\n",
      "count  30336.000000  30336.000000\n",
      "mean   15167.500000      0.077664\n",
      "std     8757.393219      0.267646\n",
      "min        0.000000      0.000000\n",
      "25%     7583.750000      0.000000\n",
      "50%    15167.500000      0.000000\n",
      "75%    22751.250000      0.000000\n",
      "max    30335.000000      1.000000\n"
     ]
    },
    {
     "name": "stderr",
     "output_type": "stream",
     "text": [
      "/home/mihir/pythonprojects/cs5228_project/cs5228/venv/lib/python3.6/site-packages/tensorboard/compat/tensorflow_stub/dtypes.py:541: FutureWarning: Passing (type, 1) or '1type' as a synonym of type is deprecated; in a future version of numpy, it will be understood as (type, (1,)) / '(1,)type'.\n",
      "  _np_qint8 = np.dtype([(\"qint8\", np.int8, 1)])\n",
      "/home/mihir/pythonprojects/cs5228_project/cs5228/venv/lib/python3.6/site-packages/tensorboard/compat/tensorflow_stub/dtypes.py:542: FutureWarning: Passing (type, 1) or '1type' as a synonym of type is deprecated; in a future version of numpy, it will be understood as (type, (1,)) / '(1,)type'.\n",
      "  _np_quint8 = np.dtype([(\"quint8\", np.uint8, 1)])\n",
      "/home/mihir/pythonprojects/cs5228_project/cs5228/venv/lib/python3.6/site-packages/tensorboard/compat/tensorflow_stub/dtypes.py:543: FutureWarning: Passing (type, 1) or '1type' as a synonym of type is deprecated; in a future version of numpy, it will be understood as (type, (1,)) / '(1,)type'.\n",
      "  _np_qint16 = np.dtype([(\"qint16\", np.int16, 1)])\n",
      "/home/mihir/pythonprojects/cs5228_project/cs5228/venv/lib/python3.6/site-packages/tensorboard/compat/tensorflow_stub/dtypes.py:544: FutureWarning: Passing (type, 1) or '1type' as a synonym of type is deprecated; in a future version of numpy, it will be understood as (type, (1,)) / '(1,)type'.\n",
      "  _np_quint16 = np.dtype([(\"quint16\", np.uint16, 1)])\n",
      "/home/mihir/pythonprojects/cs5228_project/cs5228/venv/lib/python3.6/site-packages/tensorboard/compat/tensorflow_stub/dtypes.py:545: FutureWarning: Passing (type, 1) or '1type' as a synonym of type is deprecated; in a future version of numpy, it will be understood as (type, (1,)) / '(1,)type'.\n",
      "  _np_qint32 = np.dtype([(\"qint32\", np.int32, 1)])\n",
      "/home/mihir/pythonprojects/cs5228_project/cs5228/venv/lib/python3.6/site-packages/tensorboard/compat/tensorflow_stub/dtypes.py:550: FutureWarning: Passing (type, 1) or '1type' as a synonym of type is deprecated; in a future version of numpy, it will be understood as (type, (1,)) / '(1,)type'.\n",
      "  np_resource = np.dtype([(\"resource\", np.ubyte, 1)])\n",
      "Using TensorFlow backend.\n"
     ]
    }
   ],
   "source": [
    "import numpy as np\n",
    "import pandas as pd\n",
    "from sklearn.model_selection import train_test_split\n",
    "import tensorflow as tf\n",
    "import keras.backend as K\n",
    "from keras.preprocessing import sequence\n",
    "from keras.models import Sequential, Model\n",
    "from keras.layers import Dense, Dropout, Embedding, LSTM, Bidirectional, Input, BatchNormalization, Conv1D, Multiply, Activation, MaxPooling1D\n",
    "from keras.regularizers import l2\n",
    "from keras.optimizers import Adam, SGD\n",
    "\n",
    "## Below path hardcoded. TODO: Change this\n",
    "prefix_path = '..'\n",
    "\n",
    "labels = pd.read_csv(prefix_path + '/train_kaggle.csv')\n",
    "\n",
    "print('Labels', labels.describe())\n",
    "\n",
    "\n",
    "X = []\n",
    "y = []\n",
    "\n",
    "max_len = 350\n",
    "batch_size = 512\n",
    "\n",
    "\n",
    "\n"
   ]
  },
  {
   "cell_type": "code",
   "execution_count": 2,
   "metadata": {},
   "outputs": [
    {
     "name": "stderr",
     "output_type": "stream",
     "text": [
      "/home/mihir/pythonprojects/cs5228_project/cs5228/venv/lib/python3.6/site-packages/numpy/lib/function_base.py:390: RuntimeWarning: Mean of empty slice.\n",
      "  avg = a.mean(axis)\n",
      "/home/mihir/pythonprojects/cs5228_project/cs5228/venv/lib/python3.6/site-packages/numpy/core/_methods.py:161: RuntimeWarning: invalid value encountered in double_scalars\n",
      "  ret = ret.dtype.type(ret / rcount)\n"
     ]
    },
    {
     "name": "stdout",
     "output_type": "stream",
     "text": [
      "X Shape (30336, 350, 40)\n",
      "y shape (30336,)\n"
     ]
    }
   ],
   "source": [
    "## For each sample in the file\n",
    "for index, train_label in labels.iterrows():\n",
    "    label = train_label['label']\n",
    "\n",
    "    ## zeros_array used to keep the maximum number of sequences constant to max_len\n",
    "    zeros_array = np.zeros((max_len, 40))\n",
    "\n",
    "    ## features is a (N, 40) matrix\n",
    "    features = np.load(prefix_path + '/train/train/' + str(train_label['Id']) + '.npy')\n",
    "    \n",
    "    ## We add it to zeros_array to make all samples as (400, 40) matrix\n",
    "    zeros_array[0:len(features)] = features\n",
    "\n",
    "\n",
    "    ## For each feature, we find average of all values and replace all NaN with that value\n",
    "    for feature in range(40):\n",
    "        average_value = np.average(zeros_array[:feature][np.nan_to_num(zeros_array[:feature]) != 0])\n",
    "        zeros_array[:feature] = np.nan_to_num(zeros_array[:feature], average_value)\n",
    "\n",
    "    X.append(zeros_array)\n",
    "    y.append(label)\n",
    "\n",
    "X = np.nan_to_num(np.array(X))\n",
    "y = np.array(y)\n",
    "\n",
    "print('X Shape', X.shape)\n",
    "print('y shape', y.shape)\n"
   ]
  },
  {
   "cell_type": "code",
   "execution_count": 3,
   "metadata": {},
   "outputs": [
    {
     "name": "stdout",
     "output_type": "stream",
     "text": [
      "(2, 2, 3)\n",
      "Total average 3.5\n",
      "Feats average [2.5 3.5 4.5]\n"
     ]
    }
   ],
   "source": [
    "\n",
    "sample_array = [[[1, 2, 3], [4, 5, 6]], [[1, 2, 3], [4, 5, 6]]]\n",
    "sample_array = np.array(sample_array)\n",
    "print(sample_array.shape)\n",
    "print('Total average', np.mean(sample_array))\n",
    "print('Feats average', np.mean(sample_array, axis=(0, 1)))"
   ]
  },
  {
   "cell_type": "code",
   "execution_count": 8,
   "metadata": {},
   "outputs": [
    {
     "name": "stdout",
     "output_type": "stream",
     "text": [
      "30336 Samples, 350 sequential samples, 40 features\n",
      "Feature-wise average\n"
     ]
    }
   ],
   "source": [
    "num_samples, num_sequences, num_features = X.shape[0], X.shape[1], X.shape[2]\n",
    "print(\"{} Samples, {} sequential samples, {} features\".format(num_samples, num_sequences, num_features))\n",
    "feature_wise_average = np.mean(X, axis=(0, 1))\n",
    "assert feature_wise_average.shape[0] == num_features\n",
    "print(\"Feature-wise average\")\n",
    "print(feature_wise_averaage)"
   ]
  }
 ],
 "metadata": {
  "kernelspec": {
   "display_name": "Python 3",
   "language": "python",
   "name": "python3"
  },
  "language_info": {
   "codemirror_mode": {
    "name": "ipython",
    "version": 3
   },
   "file_extension": ".py",
   "mimetype": "text/x-python",
   "name": "python",
   "nbconvert_exporter": "python",
   "pygments_lexer": "ipython3",
   "version": "3.6.8"
  }
 },
 "nbformat": 4,
 "nbformat_minor": 2
}
