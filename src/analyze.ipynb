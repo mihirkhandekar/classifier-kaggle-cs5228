{
 "cells": [
  {
   "cell_type": "code",
   "execution_count": 28,
   "metadata": {},
   "outputs": [
    {
     "name": "stdout",
     "output_type": "stream",
     "text": [
      "Labels                  Id         label\n",
      "count  30336.000000  30336.000000\n",
      "mean   15167.500000      0.077664\n",
      "std     8757.393219      0.267646\n",
      "min        0.000000      0.000000\n",
      "25%     7583.750000      0.000000\n",
      "50%    15167.500000      0.000000\n",
      "75%    22751.250000      0.000000\n",
      "max    30335.000000      1.000000\n"
     ]
    }
   ],
   "source": [
    "import numpy as np\n",
    "import pandas as pd\n",
    "from sklearn.model_selection import train_test_split\n",
    "import tensorflow as tf\n",
    "import keras.backend as K\n",
    "from keras.preprocessing import sequence\n",
    "from keras.models import Sequential, Model\n",
    "from keras.layers import Dense, Dropout, Embedding, LSTM, Bidirectional, Input, BatchNormalization, Conv1D, Multiply, Activation, MaxPooling1D\n",
    "from keras.regularizers import l2\n",
    "from keras.optimizers import Adam, SGD\n",
    "\n",
    "## Below path hardcoded. TODO: Change this\n",
    "prefix_path = '..'\n",
    "\n",
    "labels = pd.read_csv(prefix_path + '/train_kaggle.csv')\n",
    "\n",
    "print('Labels', labels.describe())\n",
    "\n",
    "\n",
    "X = []\n",
    "y = []\n",
    "\n",
    "max_len = 350\n",
    "batch_size = 512\n",
    "\n",
    "\n",
    "\n"
   ]
  },
  {
   "cell_type": "code",
   "execution_count": 29,
   "metadata": {},
   "outputs": [
    {
     "name": "stdout",
     "output_type": "stream",
     "text": [
      "X Shape (30336, 350, 40)\n",
      "y shape (30336,)\n"
     ]
    }
   ],
   "source": [
    "## For each sample in the file\n",
    "for index, train_label in labels.iterrows():\n",
    "    label = train_label['label']\n",
    "\n",
    "    ## zeros_array used to keep the maximum number of sequences constant to max_len\n",
    "    zeros_array = np.zeros((max_len, 40))\n",
    "\n",
    "    ## features is a (N, 40) matrix\n",
    "    features = np.load(prefix_path + '/train/train/' + str(train_label['Id']) + '.npy')\n",
    "    \n",
    "    ## We add it to zeros_array to make all samples as (400, 40) matrix\n",
    "    zeros_array[0:len(features)] = features\n",
    "\n",
    "\n",
    "    ## For each feature, we find average of all values and replace all NaN with that value\n",
    "    for feature in range(40):\n",
    "        average_value = np.average(zeros_array[:feature][np.nan_to_num(zeros_array[:feature]) != 0])\n",
    "        zeros_array[:feature] = np.nan_to_num(zeros_array[:feature], average_value)\n",
    "\n",
    "    X.append(zeros_array)\n",
    "    y.append(label)\n",
    "\n",
    "X = np.array(X)\n",
    "y = np.array(y)\n",
    "\n",
    "print('X Shape', X.shape)\n",
    "print('y shape', y.shape)\n"
   ]
  },
  {
   "cell_type": "code",
   "execution_count": 30,
   "metadata": {},
   "outputs": [
    {
     "name": "stdout",
     "output_type": "stream",
     "text": [
      "(2, 2, 3)\n",
      "Total average 3.5\n",
      "Feats average [2.5 3.5 4.5]\n"
     ]
    }
   ],
   "source": [
    "\n",
    "sample_array = [[[1, 2, 3], [4, 5, 6]], [[1, 2, 3], [4, 5, 6]]]\n",
    "sample_array = np.array(sample_array)\n",
    "print(sample_array.shape)\n",
    "print('Total average', np.mean(sample_array))\n",
    "print('Feats average', np.mean(sample_array, axis=(0, 1)))"
   ]
  },
  {
   "cell_type": "code",
   "execution_count": 31,
   "metadata": {},
   "outputs": [
    {
     "name": "stdout",
     "output_type": "stream",
     "text": [
      "30336 Samples, 350 sequential samples, 40 features\n",
      "Feature-wise average\n",
      "[        nan         nan  2.99179363         nan         nan         nan\n",
      "         nan         nan         nan         nan         nan  6.8681197\n",
      "         nan         nan         nan         nan         nan         nan\n",
      "         nan         nan         nan         nan         nan         nan\n",
      "         nan         nan         nan         nan         nan         nan\n",
      "         nan         nan         nan  0.06232454         nan -5.93850188\n",
      "         nan         nan         nan         nan]\n",
      "Feature 0 ; NaN values: 10525041 out of 10617600\n",
      "Feature 1 ; NaN values: 10432727 out of 10617600\n",
      "Feature 2 ; NaN values: 10617600 out of 10617600\n",
      "Feature 3 ; NaN values: 10587396 out of 10617600\n",
      "Feature 4 ; NaN values: 10423339 out of 10617600\n",
      "Feature 5 ; NaN values: 10425357 out of 10617600\n",
      "Feature 6 ; NaN values: 10432825 out of 10617600\n",
      "Feature 7 ; NaN values: 10525041 out of 10617600\n",
      "Feature 8 ; NaN values: 10436829 out of 10617600\n",
      "Feature 9 ; NaN values: 10430975 out of 10617600\n",
      "Feature 10 ; NaN values: 10421541 out of 10617600\n",
      "Feature 11 ; NaN values: 10617600 out of 10617600\n",
      "Feature 12 ; NaN values: 10446138 out of 10617600\n",
      "Feature 13 ; NaN values: 10443636 out of 10617600\n",
      "Feature 14 ; NaN values: 10430438 out of 10617600\n",
      "Feature 15 ; NaN values: 10601609 out of 10617600\n",
      "Feature 16 ; NaN values: 10422256 out of 10617600\n",
      "Feature 17 ; NaN values: 10596505 out of 10617600\n",
      "Feature 18 ; NaN values: 10434569 out of 10617600\n",
      "Feature 19 ; NaN values: 10428828 out of 10617600\n",
      "Feature 20 ; NaN values: 10426735 out of 10617600\n",
      "Feature 21 ; NaN values: 10432572 out of 10617600\n",
      "Feature 22 ; NaN values: 10431739 out of 10617600\n",
      "Feature 23 ; NaN values: 10430357 out of 10617600\n",
      "Feature 24 ; NaN values: 10552058 out of 10617600\n",
      "Feature 25 ; NaN values: 10428359 out of 10617600\n",
      "Feature 26 ; NaN values: 10432509 out of 10617600\n",
      "Feature 27 ; NaN values: 10430383 out of 10617600\n",
      "Feature 28 ; NaN values: 10423599 out of 10617600\n",
      "Feature 29 ; NaN values: 10594017 out of 10617600\n",
      "Feature 30 ; NaN values: 10423619 out of 10617600\n",
      "Feature 31 ; NaN values: 10435305 out of 10617600\n",
      "Feature 32 ; NaN values: 10431407 out of 10617600\n",
      "Feature 33 ; NaN values: 10617600 out of 10617600\n",
      "Feature 34 ; NaN values: 10421767 out of 10617600\n",
      "Feature 35 ; NaN values: 10617600 out of 10617600\n",
      "Feature 36 ; NaN values: 10429888 out of 10617600\n",
      "Feature 37 ; NaN values: 10593064 out of 10617600\n",
      "Feature 38 ; NaN values: 10426427 out of 10617600\n",
      "Feature 39 ; NaN values: 10483842 out of 10617600\n"
     ]
    }
   ],
   "source": [
    "num_samples, num_sequences, num_features = X.shape[0], X.shape[1], X.shape[2]\n",
    "print(\"{} Samples, {} sequential samples, {} features\".format(num_samples, num_sequences, num_features))\n",
    "feature_wise_average = np.mean(X, axis=(0, 1))\n",
    "assert feature_wise_average.shape[0] == num_features\n",
    "print(\"Feature-wise average\")\n",
    "print(feature_wise_average)\n",
    "\n",
    "for feature in range(num_features):\n",
    "    feature_values = X[:, :, feature]\n",
    "    #print('Feature {} ; NaN values: {} out of {}'.format(feature, np.count_nonzero(feature_values), feature_values.shape[0] * feature_values.shape[1]))\n",
    "    print('Feature {} ; NaN values: {} out of {}'.format(feature, np.count_nonzero(~np.isnan(feature_values)), feature_values.shape[0] * feature_values.shape[1]))"
   ]
  },
  {
   "cell_type": "code",
   "execution_count": 38,
   "metadata": {},
   "outputs": [
    {
     "name": "stdout",
     "output_type": "stream",
     "text": [
      "(30336, 40)\n",
      "[[    nan     nan 1485.   ... 1241.       nan     nan]\n",
      " [  23.      2.5   276.   ...  270.5     0.    216.99]\n",
      " [   0.       nan 1176.   ...     nan     nan     nan]\n",
      " ...\n",
      " [   0.      7.4   630.   ...  701.5    31.4   261.7 ]\n",
      " [    nan     nan 1081.   ...  675.       nan     nan]\n",
      " [   0.      0.     36.   ...  125.      0.     71.9 ]]\n"
     ]
    }
   ],
   "source": [
    "X_2d = np.sum(X, axis=1)\n",
    "print(X_2d.shape)\n",
    "print(X_2d)"
   ]
  }
 ],
 "metadata": {
  "kernelspec": {
   "display_name": "Python 3",
   "language": "python",
   "name": "python3"
  },
  "language_info": {
   "codemirror_mode": {
    "name": "ipython",
    "version": 3
   },
   "file_extension": ".py",
   "mimetype": "text/x-python",
   "name": "python",
   "nbconvert_exporter": "python",
   "pygments_lexer": "ipython3",
   "version": "3.6.8"
  }
 },
 "nbformat": 4,
 "nbformat_minor": 2
}
